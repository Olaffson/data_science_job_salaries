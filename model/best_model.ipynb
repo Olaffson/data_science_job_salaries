{
 "cells": [
  {
   "cell_type": "code",
   "execution_count": 2,
   "metadata": {},
   "outputs": [
    {
     "name": "stdout",
     "output_type": "stream",
     "text": [
      "Best run ID: 0c2002b75a6b4660b4f3f352028db8ad, R2: 0.31635087055046396\n"
     ]
    },
    {
     "name": "stderr",
     "output_type": "stream",
     "text": [
      "Downloading artifacts:  22%|██▏       | 2/9 [00:00<00:00, 541.83it/s]"
     ]
    },
    {
     "name": "stderr",
     "output_type": "stream",
     "text": [
      "Downloading artifacts: 100%|██████████| 9/9 [00:00<00:00, 146.47it/s]"
     ]
    },
    {
     "name": "stdout",
     "output_type": "stream",
     "text": [
      "Best model saved locally as 'best_xgboost_model.pkl'\n"
     ]
    },
    {
     "name": "stderr",
     "output_type": "stream",
     "text": [
      "\n"
     ]
    }
   ],
   "source": [
    "import mlflow\n",
    "import mlflow.sklearn\n",
    "from mlflow.tracking import MlflowClient\n",
    "import pickle\n",
    "\n",
    "# Définir l'URI de suivi MLflow\n",
    "mlflow_tracking_uri = \"http://127.0.0.1:5000\"\n",
    "experiment_name = \"xgboost_salary_prediction\"\n",
    "\n",
    "# Configurer l'URI de suivi MLflow\n",
    "mlflow.set_tracking_uri(mlflow_tracking_uri)\n",
    "client = MlflowClient(tracking_uri=mlflow_tracking_uri)\n",
    "\n",
    "# Obtenir l'expérience MLflow\n",
    "experiment = client.get_experiment_by_name(experiment_name)\n",
    "\n",
    "# Rechercher tous les runs de l'expérience\n",
    "runs = client.search_runs(experiment_ids=[experiment.experiment_id])\n",
    "\n",
    "# Trouver le run avec le meilleur R2\n",
    "best_run = None\n",
    "best_r2 = float('-inf')\n",
    "\n",
    "for run in runs:\n",
    "    # Vérifiez si la métrique r2_test est présente dans le run\n",
    "    if 'r2_test' in run.data.metrics:\n",
    "        r2_test = run.data.metrics['r2_test']\n",
    "        if r2_test > best_r2:\n",
    "            best_r2 = r2_test\n",
    "            best_run = run\n",
    "\n",
    "if best_run:\n",
    "    print(f\"Best run ID: {best_run.info.run_id}, R2: {best_r2}\")\n",
    "\n",
    "    # Télécharger le meilleur modèle\n",
    "    model_uri = f\"runs:/{best_run.info.run_id}/xgboost_model\"\n",
    "    best_model = mlflow.sklearn.load_model(model_uri)\n",
    "\n",
    "    # Enregistrer le modèle localement dans un fichier .pkl\n",
    "    with open(\"../api/best_xgboost_model.pkl\", \"wb\") as model_file:\n",
    "        pickle.dump(best_model, model_file)\n",
    "    print(\"Best model saved locally as 'best_xgboost_model.pkl'\")\n",
    "else:\n",
    "    print(\"No valid runs found.\")\n"
   ]
  }
 ],
 "metadata": {
  "kernelspec": {
   "display_name": "venv",
   "language": "python",
   "name": "python3"
  },
  "language_info": {
   "codemirror_mode": {
    "name": "ipython",
    "version": 3
   },
   "file_extension": ".py",
   "mimetype": "text/x-python",
   "name": "python",
   "nbconvert_exporter": "python",
   "pygments_lexer": "ipython3",
   "version": "3.10.12"
  },
  "orig_nbformat": 4
 },
 "nbformat": 4,
 "nbformat_minor": 2
}
